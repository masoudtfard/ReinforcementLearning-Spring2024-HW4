{
  "cells": [
    {
      "cell_type": "markdown",
      "metadata": {
        "id": "r9HxtwHbk6Pc"
      },
      "source": [
        "***\n",
        "<center><img src='https://github.com/HesamAsad/HesamAsad.github.io/blob/main/images/LOGO_EN_blue.png?raw=true' width=250/></center>\n",
        "\n",
        "# <center>\n",
        "## <center><span style='font-family:\"Times New Roman\"'><span style='background:dark'>  <font color='#1966ab'>$\\LARGE{\\text{Sharif University of Technology}}$</font>  <br>  <br>  <font color='#FFFFCC'>$\\Large{\\text{Masoud Tahmasbi}}$ </font> <br> <font color='#FFFFCC'>$\\normalsize {\\text{Student ID: } 402200275}$ </font>  <br>  <br> <font color='#33FFCC'>$\\large{\\text{CE957: Reinforcement Learning}}$</font> <br>  <font color='#FFFF00'>$\\normalsize{\\text{Assignment #4 - Offline RL, Behavioral Cloning}}$ </font>\n",
        "<br>\n",
        "\n",
        "***\n",
        "\n"
      ]
    },
    {
      "cell_type": "markdown",
      "metadata": {
        "id": "1PJUxRV4MIod"
      },
      "source": [
        "\n",
        "In this notebook, we will implement the Soft Actor Critic (SAC) algorithm on the CartPole environment in both online and offline settings. The SAC framework focuses on maximizing the expected reward while also maximizing entropy, meaning the actor aims to succeed at the task while maintaining a high level of randomness in its actions. This approach explicitly encourages exploration by seeking a high entropy in the policy.\n",
        "\n",
        "In the second part, we will use the policy learned in the first part to collect a dataset of expert trajectories and perform behavioral cloning.\n",
        "\n",
        "*The existing results are the baseline for the quality of your implementation.*"
      ]
    },
    {
      "cell_type": "code",
      "execution_count": null,
      "metadata": {
        "id": "UC-BecdPmdb3"
      },
      "outputs": [],
      "source": [
        "import torch\n",
        "import torch.nn as nn\n",
        "import torch.nn.functional as F\n",
        "from torch.distributions import Normal\n",
        "from torch.utils.data import Dataset, DataLoader\n",
        "import torch.optim as optim\n",
        "import numpy as np\n",
        "import random\n",
        "import gym\n",
        "import matplotlib.pyplot as plt\n",
        "import imageio\n",
        "from tqdm import tqdm\n",
        "\n",
        "\n",
        "seed = 42\n",
        "random.seed(seed)\n",
        "np.random.seed(seed)\n",
        "torch.manual_seed(seed)\n",
        "torch.cuda.manual_seed(seed)\n",
        "torch.backends.cudnn.deterministic = True"
      ]
    },
    {
      "cell_type": "code",
      "execution_count": null,
      "metadata": {
        "id": "GSpSSRB-zCea"
      },
      "outputs": [],
      "source": [
        "from IPython.display import HTML\n",
        "from base64 import b64encode\n",
        "\n",
        "def show_video(path):\n",
        "    mp4 = open(path, 'rb').read()\n",
        "    data_url = \"data:video/mp4;base64,\" + b64encode(mp4).decode()\n",
        "    return HTML(\"\"\"\n",
        "    <video width=400 controls>\n",
        "          <source src=\"%s\" type=\"video/mp4\">\n",
        "    </video>\n",
        "    \"\"\" % data_url)"
      ]
    },
    {
      "cell_type": "markdown",
      "metadata": {
        "id": "_whWTLZejkm3"
      },
      "source": [
        "## Network Structure (10 points)\n",
        "For constructing SAC agent, we use objects of feedforward neural networks with 3 layers. Complete the code below."
      ]
    },
    {
      "cell_type": "code",
      "execution_count": null,
      "metadata": {
        "id": "4pxOyt0xh4nN",
        "colab": {
          "base_uri": "https://localhost:8080/"
        },
        "outputId": "27884f66-37f8-4e74-9361-572177fe5dc2"
      },
      "outputs": [
        {
          "output_type": "stream",
          "name": "stderr",
          "text": [
            "/usr/local/lib/python3.10/dist-packages/ipykernel/ipkernel.py:283: DeprecationWarning: `should_run_async` will not call `transform_cell` automatically in the future. Please pass the result to `transformed_cell` argument and any exception that happen during thetransform in `preprocessing_exc_tuple` in IPython 7.17 and above.\n",
            "  and should_run_async(code)\n"
          ]
        }
      ],
      "source": [
        "class Network(torch.nn.Module):\n",
        "\n",
        "    def __init__(self, input_dimension, output_dimension, output_activation=torch.nn.Identity()):\n",
        "        super(Network, self).__init__()\n",
        "        ##########################################################\n",
        "        # TODO\n",
        "        # Define your network layers\n",
        "        ##########################################################\n",
        "        self.output_activation = output_activation\n",
        "        self.layer_stack_1 = nn.Sequential(\n",
        "        nn.Linear(in_features=input_dimension, out_features=64),\n",
        "        nn.ReLU(),\n",
        "        nn.Linear(in_features=64, out_features=64),\n",
        "        nn.ReLU(),\n",
        "        nn.Linear(in_features=64, out_features=output_dimension)\n",
        "        )\n",
        "\n",
        "    def forward(self, input):\n",
        "        ##########################################################\n",
        "        # TODO\n",
        "        # Calculate the output\n",
        "        ##########################################################\n",
        "        return self.output_activation(self.layer_stack_1(input))"
      ]
    },
    {
      "cell_type": "markdown",
      "metadata": {
        "id": "DToSGdmDka1u"
      },
      "source": [
        "## Replay Buffer\n",
        "\n",
        "A SAC agent requires a replay buffer to sample previously visited states. You can utilize the implemented code below to set up this replay buffer."
      ]
    },
    {
      "cell_type": "code",
      "execution_count": null,
      "metadata": {
        "id": "UC7jTwJXh8wl"
      },
      "outputs": [],
      "source": [
        "import numpy as np\n",
        "\n",
        "\n",
        "class ReplayBuffer:\n",
        "\n",
        "    def __init__(self, environment, capacity=5000):\n",
        "        transition_type_str = self.get_transition_type_str(environment)\n",
        "        self.buffer = np.zeros(capacity, dtype=transition_type_str)\n",
        "        self.weights = np.zeros(capacity)\n",
        "        self.head_idx = 0\n",
        "        self.count = 0\n",
        "        self.capacity = capacity\n",
        "        self.max_weight = 1e-2\n",
        "        self.delta = 1e-4\n",
        "        self.indices = None\n",
        "        self.mirror_index = np.random.permutation(range(self.buffer.shape[0]))\n",
        "\n",
        "    def get_transition_type_str(self, environment):\n",
        "        state_dim = environment.observation_space.shape[0]\n",
        "        state_dim_str = '' if state_dim == () else str(state_dim)\n",
        "        state_type_str = environment.observation_space.sample().dtype.name\n",
        "        action_dim = environment.action_space.shape\n",
        "        action_dim_str = '' if action_dim == () else str(action_dim)\n",
        "        action_type_str = environment.action_space.sample().__class__.__name__\n",
        "\n",
        "        transition_type_str = '{0}{1}, {2}{3}, float32, {0}{1}, bool'.format(state_dim_str, state_type_str,\n",
        "                                                                             action_dim_str, action_type_str)\n",
        "\n",
        "        return transition_type_str\n",
        "\n",
        "    def add_transition(self, transition):\n",
        "        self.buffer[self.head_idx] = transition\n",
        "        self.weights[self.head_idx] = self.max_weight\n",
        "\n",
        "        self.head_idx = (self.head_idx + 1) % self.capacity\n",
        "        self.count = min(self.count + 1, self.capacity)\n",
        "\n",
        "    def sample_minibatch(self, size=100, batch_deterministic_start=None):\n",
        "        set_weights = self.weights[:self.count] + self.delta\n",
        "        probabilities = set_weights / sum(set_weights)\n",
        "        if batch_deterministic_start is None:\n",
        "            self.indices = np.random.choice(range(self.count), size, p=probabilities, replace=False)\n",
        "        else:\n",
        "            self.indices = self.mirror_index[batch_deterministic_start:batch_deterministic_start+size]\n",
        "        return self.buffer[self.indices]\n",
        "\n",
        "    def update_weights(self, prediction_errors):\n",
        "        max_error = max(prediction_errors)\n",
        "        self.max_weight = max(self.max_weight, max_error)\n",
        "        self.weights[self.indices] = prediction_errors\n",
        "\n",
        "    def get_size(self):\n",
        "        return self.count"
      ]
    },
    {
      "cell_type": "markdown",
      "metadata": {
        "id": "5wOrt_EmfFFD"
      },
      "source": [
        "## SAC Agent (50 points)"
      ]
    },
    {
      "cell_type": "markdown",
      "metadata": {
        "id": "ScEk94Ubb01W"
      },
      "source": [
        "Now complete the following class. You can use the auxiliary methods provided in the class."
      ]
    },
    {
      "cell_type": "markdown",
      "metadata": {
        "id": "auC-yiyTOPrt"
      },
      "source": [
        "![image.png](data:image/png;base64,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)"
      ]
    },
    {
      "cell_type": "code",
      "execution_count": null,
      "metadata": {
        "id": "A8bEgUc2hmet"
      },
      "outputs": [],
      "source": [
        "class SACAgent:\n",
        "    def __init__(self, environment, replay_buffer=None, offline=False, learning_rate=1e-4,\n",
        "                 discount=0.99, buffer_batch_size=100, alpha_init=1, interpolation_factor=0.01):\n",
        "        self.environment = environment\n",
        "        self.state_dim = self.environment.observation_space.shape[0]\n",
        "        self.action_dim = self.environment.action_space.n\n",
        "\n",
        "        self.alpha_init = alpha_init\n",
        "        self.learning_rate = learning_rate\n",
        "        self.discount = discount\n",
        "        self.buffer_batch_size = buffer_batch_size\n",
        "        self.interpolation_factor = interpolation_factor\n",
        "\n",
        "        self.replay_buffer = ReplayBuffer(self.environment) if replay_buffer is None else replay_buffer\n",
        "        self.offline = offline\n",
        "\n",
        "        ##########################################################\n",
        "        # TODO\n",
        "        # Define critics usig your implemented feed forward netwrok\n",
        "        ##########################################################\n",
        "        self.critic_local = Network(input_dimension=self.state_dim,\n",
        "                            output_dimension=self.action_dim)\n",
        "\n",
        "        self.critic_local2 = Network(input_dimension=self.state_dim,\n",
        "                            output_dimension=self.action_dim)\n",
        "\n",
        "        self.critic_optimizer = torch.optim.Adam(self.critic_local.parameters(),\n",
        "                                                 lr=self.learning_rate)\n",
        "\n",
        "        self.critic_optimizer2 = torch.optim.Adam(self.critic_local2.parameters(),\n",
        "                                                 lr=self.learning_rate)\n",
        "\n",
        "        self.critic_target = Network(input_dimension=self.state_dim,\n",
        "                            output_dimension=self.action_dim)\n",
        "\n",
        "        self.critic_target2 = Network(input_dimension=self.state_dim,\n",
        "                            output_dimension=self.action_dim)\n",
        "\n",
        "        self.soft_update_target_networks(tau=1.)\n",
        "\n",
        "        ##########################################################\n",
        "        # TODO\n",
        "        # Define the actor\n",
        "        # Define the actor optimizer\n",
        "        ##########################################################\n",
        "        self.actor_local = Network(input_dimension=self.state_dim,\n",
        "                            output_dimension=self.action_dim,\n",
        "                            output_activation=nn.Softmax(dim=1))\n",
        "\n",
        "        self.actor_optimizer  = torch.optim.Adam(self.actor_local.parameters(),\n",
        "                                                 lr=self.learning_rate)\n",
        "\n",
        "        self.target_entropy = 0.98 * -np.log(1 / self.environment.action_space.n)\n",
        "        self.log_alpha = torch.tensor(np.log(self.alpha_init), requires_grad=True)\n",
        "\n",
        "        self.alpha = self.log_alpha\n",
        "        self.alpha_optimizer = torch.optim.Adam([self.log_alpha], lr=self.learning_rate)\n",
        "\n",
        "    def get_next_action(self, state, evaluation_episode=False):\n",
        "        if evaluation_episode:\n",
        "            discrete_action = self.get_action_deterministically(state)\n",
        "        else:\n",
        "            discrete_action = self.get_action_nondeterministically(state)\n",
        "        return discrete_action\n",
        "\n",
        "    def get_action_nondeterministically(self, state):\n",
        "        action_probabilities = self.get_action_probabilities(state)\n",
        "        discrete_action = np.random.choice(range(self.action_dim), p=action_probabilities)\n",
        "        return discrete_action\n",
        "\n",
        "    def get_action_deterministically(self, state):\n",
        "        action_probabilities = self.get_action_probabilities(state)\n",
        "        discrete_action = np.argmax(action_probabilities)\n",
        "        return discrete_action\n",
        "\n",
        "    def critic_loss(self, states_tensor, actions_tensor, rewards_tensor,\n",
        "                    next_states_tensor, done_tensor):\n",
        "        ##########################################################\n",
        "        # TODO\n",
        "        # You are going to calculate critic losses in this method\n",
        "        ##########################################################\n",
        "        with torch.no_grad():\n",
        "            action_probabilities, log_action_probabilities = self.get_action_info(next_states_tensor)\n",
        "            q_values_target = self.critic_target(next_states_tensor)\n",
        "            q_values_target2 = self.critic_target2(next_states_tensor)\n",
        "\n",
        "            soft_q_values = (action_probabilities * (\n",
        "                        torch.min(q_values_target, q_values_target2) - self.alpha * log_action_probabilities)).sum(dim=1)\n",
        "\n",
        "            q_targets = rewards_tensor + self.discount * soft_q_values * (~done_tensor)\n",
        "\n",
        "        q_estimated1  = self.critic_local(states_tensor).gather(1, actions_tensor.unsqueeze(-1)).squeeze(-1)\n",
        "        q_estimated2 = self.critic_local2(states_tensor).gather(1, actions_tensor.unsqueeze(-1)).squeeze(-1)\n",
        "\n",
        "        critic1_MSEloss = nn.MSELoss(reduction=\"none\")(q_estimated1, q_targets)\n",
        "        critic2_MSEloss = nn.MSELoss(reduction=\"none\")(q_estimated2, q_targets)\n",
        "\n",
        "        prediction_errors = [min(loss1.item(), loss2.item()) for loss1, loss2 in zip(critic1_MSEloss, critic2_MSEloss)]\n",
        "        self.replay_buffer.update_weights(prediction_errors)\n",
        "        critic1_loss = critic1_MSEloss.mean()\n",
        "        critic2_loss = critic2_MSEloss.mean()\n",
        "\n",
        "        return critic1_loss, critic2_loss\n",
        "\n",
        "    def actor_loss(self, states_tensor, actions_tensor):\n",
        "        ##########################################################\n",
        "        # TODO\n",
        "        # Implement the actor loss\n",
        "        ##########################################################\n",
        "        q_estimated1  = self.critic_local(states_tensor)\n",
        "        q_estimated2 = self.critic_local2(states_tensor)\n",
        "\n",
        "        action_probabilities, log_action_probabilities = self.get_action_info(states_tensor)\n",
        "        actor_loss = (action_probabilities * (\n",
        "                    self.alpha * log_action_probabilities - torch.min(q_estimated1, q_estimated2))).sum(dim=1).mean()\n",
        "\n",
        "        return actor_loss, log_action_probabilities\n",
        "\n",
        "    def train_on_transition(self, state, discrete_action, next_state, reward, done):\n",
        "        transition = (state, discrete_action, reward, next_state, done)\n",
        "        self.train_networks(transition)\n",
        "\n",
        "    def train_networks(self, transition=None, batch_deterministic_start=None):\n",
        "        ##########################################################\n",
        "        # TODO\n",
        "        # Set all the gradients stored in the optimizers to zero\n",
        "        # Add the new transition to the replay buffer for online case\n",
        "        ##########################################################\n",
        "\n",
        "        self.actor_optimizer.zero_grad()\n",
        "        self.alpha_optimizer.zero_grad()\n",
        "        self.critic_optimizer.zero_grad()\n",
        "        self.critic_optimizer2.zero_grad()\n",
        "\n",
        "        if not self.offline:\n",
        "            self.replay_buffer.add_transition(transition)\n",
        "\n",
        "        if self.replay_buffer.get_size() >= self.buffer_batch_size:\n",
        "            minibatch = self.replay_buffer.sample_minibatch(self.buffer_batch_size,\n",
        "                                                            batch_deterministic_start=batch_deterministic_start)\n",
        "            minibatch_separated = list(map(list, zip(*minibatch)))\n",
        "\n",
        "            states_tensor = torch.tensor(np.array(minibatch_separated[0]))\n",
        "            actions_tensor = torch.tensor(np.array(minibatch_separated[1]))\n",
        "            rewards_tensor = torch.tensor(np.array(minibatch_separated[2])).float()\n",
        "            next_states_tensor = torch.tensor(np.array(minibatch_separated[3]))\n",
        "            done_tensor = torch.tensor(np.array(minibatch_separated[4]))\n",
        "\n",
        "            ##########################################################\n",
        "            # TODO\n",
        "            # compute the critic loss and perform the backpropagation,\n",
        "            # then compute the actor loss and backpropagate the gradient on it\n",
        "            # You also need to update \\alpha\n",
        "            ##########################################################\n",
        "            critic1_loss, critic2_loss = self.critic_loss(states_tensor,\n",
        "                                                          actions_tensor, rewards_tensor,next_states_tensor, done_tensor)\n",
        "            critic1_loss.backward()\n",
        "            self.critic_optimizer.step()\n",
        "\n",
        "            critic2_loss.backward()\n",
        "            self.critic_optimizer2.step()\n",
        "\n",
        "            actor_loss, log_action_probabilities = self.actor_loss(states_tensor, actions_tensor)\n",
        "            actor_loss.backward()\n",
        "            self.actor_optimizer.step()\n",
        "\n",
        "\n",
        "            alpha_loss = self.temperature_loss(log_action_probabilities)\n",
        "            alpha_loss.backward()\n",
        "            self.alpha_optimizer.step()\n",
        "            self.alpha = self.log_alpha.exp()\n",
        "\n",
        "            self.soft_update_target_networks(self.interpolation_factor)\n",
        "\n",
        "    def temperature_loss(self, log_action_probabilities):\n",
        "        alpha_loss = -(self.log_alpha * (log_action_probabilities + self.target_entropy).detach()).mean()\n",
        "        return alpha_loss\n",
        "\n",
        "    def get_action_info(self, states_tensor):\n",
        "        action_probabilities = self.actor_local.forward(states_tensor)\n",
        "        z = action_probabilities == 0.0\n",
        "        z = z.float() * 1e-8\n",
        "        log_action_probabilities = torch.log(action_probabilities + z)\n",
        "        return action_probabilities, log_action_probabilities\n",
        "\n",
        "    def get_action_probabilities(self, state):\n",
        "        state_tensor = torch.tensor(state, dtype=torch.float32).unsqueeze(0)\n",
        "        action_probabilities = self.actor_local.forward(state_tensor)\n",
        "        return action_probabilities.squeeze(0).detach().numpy()\n",
        "\n",
        "    def soft_update_target_networks(self, tau):\n",
        "        self.soft_update(self.critic_target, self.critic_local, tau)\n",
        "        self.soft_update(self.critic_target2, self.critic_local2, tau)\n",
        "\n",
        "    def soft_update(self, target_model, origin_model, tau):\n",
        "        for target_param, local_param in zip(target_model.parameters(), origin_model.parameters()):\n",
        "            target_param.data.copy_(tau * local_param.data + (1 - tau) * target_param.data)\n",
        "\n",
        "    def predict_q_values(self, state, action):\n",
        "        q_values = self.critic_local(state)\n",
        "        q_values2 = self.critic_local2(state)\n",
        "        return torch.min(q_values, q_values2)"
      ]
    },
    {
      "cell_type": "markdown",
      "metadata": {
        "id": "X7Tx4pS_kdo-"
      },
      "source": [
        "## Online SAC (10 points)"
      ]
    },
    {
      "cell_type": "markdown",
      "metadata": {
        "id": "jUm9_qfAlvf_"
      },
      "source": [
        "Now evaluate your model in CartPole environment in the online setting. After each 4 episodes, you should evaluate your model on a separate test environment. Run your model 4 times separately and plot the mean and deviation of the evaluation curves.\n",
        "\n",
        "**NOTE:** Since you are going to use the replay buffer of this agent as the offline dataset, you may want to save it for later use."
      ]
    },
    {
      "cell_type": "code",
      "execution_count": null,
      "metadata": {
        "colab": {
          "base_uri": "https://localhost:8080/",
          "height": 671
        },
        "id": "c6quXtBzZ6nZ",
        "outputId": "6f815828-d2b2-4e76-930b-61b89b9f521d"
      },
      "outputs": [
        {
          "output_type": "stream",
          "name": "stderr",
          "text": [
            "/usr/local/lib/python3.10/dist-packages/gym/core.py:317: DeprecationWarning: \u001b[33mWARN: Initializing wrapper in old step API which returns one bool instead of two. It is recommended to set `new_step_api=True` to use new step API. This will be the default behaviour in future.\u001b[0m\n",
            "  deprecation(\n",
            "/usr/local/lib/python3.10/dist-packages/gym/wrappers/step_api_compatibility.py:39: DeprecationWarning: \u001b[33mWARN: Initializing environment in old step API which returns one bool instead of two. It is recommended to set `new_step_api=True` to use new step API. This will be the default behaviour in future.\u001b[0m\n",
            "  deprecation(\n"
          ]
        },
        {
          "output_type": "stream",
          "name": "stdout",
          "text": [
            "Episode 1 of Run 1\n"
          ]
        },
        {
          "output_type": "stream",
          "name": "stderr",
          "text": [
            "/usr/local/lib/python3.10/dist-packages/gym/utils/passive_env_checker.py:241: DeprecationWarning: `np.bool8` is a deprecated alias for `np.bool_`.  (Deprecated NumPy 1.24)\n",
            "  if not isinstance(terminated, (bool, np.bool8)):\n"
          ]
        },
        {
          "output_type": "stream",
          "name": "stdout",
          "text": [
            "Episode 101 of Run 1\n",
            "Episode 201 of Run 1\n",
            "Episode 301 of Run 1\n",
            "Episode 401 of Run 1\n",
            "Episode 501 of Run 1\n",
            "Episode 601 of Run 1\n",
            "Episode 701 of Run 1\n",
            "Episode 801 of Run 1\n",
            "Episode 901 of Run 1\n",
            "<--------------------------End of Run 1-------------------------->\n",
            "Episode 1 of Run 2\n",
            "Episode 101 of Run 2\n",
            "Episode 201 of Run 2\n",
            "Episode 301 of Run 2\n",
            "Episode 401 of Run 2\n",
            "Episode 501 of Run 2\n",
            "Episode 601 of Run 2\n",
            "Episode 701 of Run 2\n",
            "Episode 801 of Run 2\n",
            "Episode 901 of Run 2\n",
            "<--------------------------End of Run 2-------------------------->\n",
            "Episode 1 of Run 3\n",
            "Episode 101 of Run 3\n",
            "Episode 201 of Run 3\n",
            "Episode 301 of Run 3\n",
            "Episode 401 of Run 3\n",
            "Episode 501 of Run 3\n",
            "Episode 601 of Run 3\n",
            "Episode 701 of Run 3\n",
            "Episode 801 of Run 3\n",
            "Episode 901 of Run 3\n",
            "<--------------------------End of Run 3-------------------------->\n",
            "Episode 1 of Run 4\n",
            "Episode 101 of Run 4\n",
            "Episode 201 of Run 4\n",
            "Episode 301 of Run 4\n",
            "Episode 401 of Run 4\n",
            "Episode 501 of Run 4\n",
            "Episode 601 of Run 4\n",
            "Episode 701 of Run 4\n",
            "Episode 801 of Run 4\n",
            "Episode 901 of Run 4\n",
            "<--------------------------End of Run 4-------------------------->\n"
          ]
        }
      ],
      "source": [
        "TRAINING_EVALUATION_RATIO = 4\n",
        "EPISODES_PER_RUN = 1500\n",
        "STEPS_PER_EPISODE = 200\n",
        "RUNS = 1\n",
        "REPORT_PER_EPISODE = 100\n",
        "env = gym.make(\"CartPole-v1\")\n",
        "online_replay_buffer = ReplayBuffer(env, capacity=1500000)\n",
        "\n",
        "##########################################################\n",
        "# TODO\n",
        "# Implement the training loop for the online SAC.\n",
        "# After each epoch, run validation\n",
        "# and plot the mean return over these\n",
        "# episodes in the end\n",
        "# Plot the learning curves\n",
        "##########################################################\n",
        "agents_reward = []\n",
        "\n",
        "for run in range(RUNS):\n",
        "    online_agent = SACAgent(env)\n",
        "    runs_reward = []\n",
        "\n",
        "    for episode in range(EPISODES_PER_RUN):\n",
        "        if episode % REPORT_PER_EPISODE == 0:\n",
        "            print(f'Episode {episode+1} of Run {run+1}')\n",
        "\n",
        "        done = False\n",
        "        episode_reward = 0\n",
        "        evaluation_episode = episode % TRAINING_EVALUATION_RATIO == 0\n",
        "        state = env.reset()\n",
        "        step = 0\n",
        "        while not done and step < STEPS_PER_EPISODE:\n",
        "            action = online_agent.get_next_action(state, evaluation_episode)\n",
        "            next_state, reward, done, _ = env.step(action)\n",
        "\n",
        "            transition = (state, action, reward, next_state, done)\n",
        "            online_replay_buffer.add_transition(transition)\n",
        "\n",
        "            if evaluation_episode:\n",
        "                episode_reward += reward\n",
        "            else:\n",
        "                online_agent.train_on_transition(state, action, next_state, reward, done)\n",
        "\n",
        "            state = next_state\n",
        "            step += 1\n",
        "        if evaluation_episode:\n",
        "            runs_reward.append(episode_reward)\n",
        "    print(f'<--------------------------End of Run {run+1}-------------------------->')\n",
        "    agents_reward.append(runs_reward)"
      ]
    },
    {
      "cell_type": "code",
      "execution_count": null,
      "metadata": {
        "colab": {
          "base_uri": "https://localhost:8080/",
          "height": 892
        },
        "id": "4m6UA9-B5B06",
        "outputId": "b8490b36-8c2f-497a-e624-0b2eae5bf2ae"
      },
      "outputs": [
        {
          "output_type": "display_data",
          "data": {
            "text/plain": [
              "<Figure size 1200x1000 with 4 Axes>"
            ],
            "image/png": "[encoded data removed]"
          },
          "metadata": {}
        }
      ],
      "source": [
        "fig, axs = plt.subplots(2, 2, figsize=(12, 10))\n",
        "\n",
        "axs[0,0].plot(agents_reward[0])\n",
        "axs[0,0].set_title('Rewads of Agent #1')\n",
        "axs[0,0].set_xlabel('Evaluation Episode')\n",
        "axs[0,0].set_ylabel('Reward')\n",
        "axs[0,0].grid()\n",
        "\n",
        "axs[0,1].plot(agents_reward[1])\n",
        "axs[0,1].set_title('Rewads of Agent #2')\n",
        "axs[0,1].set_xlabel('Evaluation Episode')\n",
        "axs[0,1].set_ylabel('Reward')\n",
        "axs[0,1].grid()\n",
        "\n",
        "axs[1,0].plot(agents_reward[2])\n",
        "axs[1,0].set_title('Rewads of Agent #3')\n",
        "axs[1,0].set_xlabel('Evaluation Episode')\n",
        "axs[1,0].set_ylabel('Reward')\n",
        "axs[1,0].grid()\n",
        "\n",
        "axs[1,1].plot(agents_reward[3])\n",
        "axs[1,1].set_title('Rewads of Agent #4')\n",
        "axs[1,1].set_xlabel('Evaluation Episode')\n",
        "axs[1,1].set_ylabel('Reward')\n",
        "axs[1,1].grid()"
      ]
    },
    {
      "cell_type": "code",
      "execution_count": null,
      "metadata": {
        "colab": {
          "base_uri": "https://localhost:8080/",
          "height": 472
        },
        "id": "xWV-0ttz5QBE",
        "outputId": "669d65ca-c82c-40ff-d635-8289c21dfdbc"
      },
      "outputs": [
        {
          "output_type": "display_data",
          "data": {
            "text/plain": [
              "<Figure size 640x480 with 1 Axes>"
            ],
            "image/png": "[encoded data removed]"
          },
          "metadata": {}
        }
      ],
      "source": [
        "confidence_interval = 1.96 * np.std(agents_reward,axis=0)/np.sqrt(np.size(agents_reward,axis=1))\n",
        "\n",
        "mean_baseline = np.mean(agents_reward,axis=0)\n",
        "fig, ax = plt.subplots()\n",
        "x = range(len(mean_baseline))\n",
        "ax.plot(x,mean_baseline)\n",
        "ax.fill_between(x, (mean_baseline-confidence_interval), (mean_baseline+confidence_interval), color='b', alpha=.2)\n",
        "\n",
        "ax.set_title('Rewads of Agents with Confidece Intervals')\n",
        "ax.set_xlabel('Evaluation Episode')\n",
        "ax.set_ylabel('Reward')\n",
        "ax.grid()"
      ]
    },
    {
      "cell_type": "code",
      "execution_count": null,
      "metadata": {
        "colab": {
          "base_uri": "https://localhost:8080/",
          "height": 409
        },
        "id": "Ge2uIJtGzGUW",
        "outputId": "efc4c12e-c2b9-4e64-b44e-37e76dc7d22c"
      },
      "outputs": [
        {
          "output_type": "stream",
          "name": "stderr",
          "text": [
            "/usr/local/lib/python3.10/dist-packages/gym/core.py:317: DeprecationWarning: \u001b[33mWARN: Initializing wrapper in old step API which returns one bool instead of two. It is recommended to set `new_step_api=True` to use new step API. This will be the default behaviour in future.\u001b[0m\n",
            "  deprecation(\n",
            "/usr/local/lib/python3.10/dist-packages/gym/wrappers/step_api_compatibility.py:39: DeprecationWarning: \u001b[33mWARN: Initializing environment in old step API which returns one bool instead of two. It is recommended to set `new_step_api=True` to use new step API. This will be the default behaviour in future.\u001b[0m\n",
            "  deprecation(\n"
          ]
        },
        {
          "output_type": "stream",
          "name": "stdout",
          "text": [
            "200.0\n"
          ]
        },
        {
          "output_type": "stream",
          "name": "stderr",
          "text": [
            "WARNING:imageio_ffmpeg:IMAGEIO FFMPEG_WRITER WARNING: input image is not divisible by macro_block_size=16, resizing from (600, 400) to (608, 400) to ensure video compatibility with most codecs and players. To prevent resizing, make your input image divisible by the macro_block_size or set the macro_block_size to 1 (risking incompatibility).\n"
          ]
        },
        {
          "output_type": "execute_result",
          "data": {
            "text/plain": [
              "<IPython.core.display.HTML object>"
            ],
            "text/html": [
              "\n",
              "    <video width=400 controls>\n",
              "          <source src=\"data:video/mp4;base64,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\" type=\"video/mp4\">\n",
              "    </video>\n",
              "    "
            ]
          },
          "metadata": {},
          "execution_count": 11
        }
      ],
      "source": [
        "env = gym.make(\"CartPole-v1\", render_mode=\"rgb_array\")\n",
        "frames = []\n",
        "\n",
        "rewards = 0\n",
        "state = env.reset()\n",
        "for _ in range(200):\n",
        "    frames.append(env.render()[0])\n",
        "    action = online_agent.get_next_action(state, evaluation_episode=False)\n",
        "    state, reward, done, info = env.step(action)\n",
        "    rewards += reward\n",
        "    if done:\n",
        "        break\n",
        "print(rewards)\n",
        "env.close()\n",
        "imageio.mimsave('./online.mp4', frames, fps=25)\n",
        "show_video('./online.mp4')"
      ]
    },
    {
      "cell_type": "code",
      "source": [
        "# from google.colab import drive\n",
        "# drive.mount('/content/gdrive')"
      ],
      "metadata": {
        "id": "x60qwAe2UrkR",
        "colab": {
          "base_uri": "https://localhost:8080/"
        },
        "outputId": "96fc273f-101c-4706-be6f-805df542b8e7"
      },
      "execution_count": null,
      "outputs": [
        {
          "output_type": "stream",
          "name": "stdout",
          "text": [
            "Mounted at /content/gdrive\n"
          ]
        }
      ]
    },
    {
      "cell_type": "code",
      "source": [
        "# saving the replay buffer\n",
        "# with open(\"online_replay_buffer\", \"wb\") as fp:   #Pickling\n",
        "#     pickle.dump(online_replay_buffer, fp)\n",
        "# !cp online_replay_buffer /content/gdrive/MyDrive"
      ],
      "metadata": {
        "id": "ZQQz6GMbdhoF"
      },
      "execution_count": null,
      "outputs": []
    },
    {
      "cell_type": "markdown",
      "metadata": {
        "id": "WxqbDN6DU0AY"
      },
      "source": [
        "## Offline SAC (10 points)"
      ]
    },
    {
      "cell_type": "markdown",
      "metadata": {
        "id": "QRwciG6WU6ES"
      },
      "source": [
        "In this part you are going to train an SAC agent using the replay buffer from the online agent. During training you sample from this replay buffer and train the offline agent **without adding transitions to the replay buffer**. The loss function and every thing else is the same as the online setting."
      ]
    },
    {
      "cell_type": "code",
      "source": [
        "# from google.colab import drive\n",
        "# drive.mount('/content/gdrive')"
      ],
      "metadata": {
        "colab": {
          "base_uri": "https://localhost:8080/"
        },
        "outputId": "96fc273f-101c-4706-be6f-805df542b8e7",
        "id": "e5o7TtpEKH6Z"
      },
      "execution_count": null,
      "outputs": [
        {
          "output_type": "stream",
          "name": "stdout",
          "text": [
            "Mounted at /content/gdrive\n"
          ]
        }
      ]
    },
    {
      "cell_type": "code",
      "source": [
        "# !cp /content/gdrive/MyDrive/online_replay_buffer /content/online_replay_buffer"
      ],
      "metadata": {
        "id": "vF5_8_DUfcki"
      },
      "execution_count": null,
      "outputs": []
    },
    {
      "cell_type": "code",
      "source": [
        "# import pickle\n",
        "# with open(\"online_replay_buffer\", \"rb\") as fp:   # Unpickling\n",
        "#     online_replay_buffer = pickle.load(fp)"
      ],
      "metadata": {
        "id": "pHt0Y2QLgWLd"
      },
      "execution_count": null,
      "outputs": []
    },
    {
      "cell_type": "code",
      "execution_count": null,
      "metadata": {
        "colab": {
          "base_uri": "https://localhost:8080/"
        },
        "id": "AcArEy_EU5H0",
        "outputId": "ed44364a-4b97-45d8-9ae8-7c29f44f477d"
      },
      "outputs": [
        {
          "metadata": {
            "tags": null
          },
          "name": "stderr",
          "output_type": "stream",
          "text": [
            "  0%|          | 1/10000 [00:00<1:15:53,  2.20it/s]"
          ]
        },
        {
          "metadata": {
            "tags": null
          },
          "name": "stdout",
          "output_type": "stream",
          "text": [
            "\n",
            "Episode Reward: 10.0\n"
          ]
        },
        {
          "metadata": {
            "tags": null
          },
          "name": "stderr",
          "output_type": "stream",
          "text": [
            "  1%|          | 101/10000 [00:30<46:24,  3.56it/s]"
          ]
        },
        {
          "metadata": {
            "tags": null
          },
          "name": "stdout",
          "output_type": "stream",
          "text": [
            "\n",
            "Episode Reward: 10.0\n"
          ]
        },
        {
          "metadata": {
            "tags": null
          },
          "name": "stderr",
          "output_type": "stream",
          "text": [
            "  2%|▏         | 201/10000 [00:59<42:51,  3.81it/s]"
          ]
        },
        {
          "metadata": {
            "tags": null
          },
          "name": "stdout",
          "output_type": "stream",
          "text": [
            "\n",
            "Episode Reward: 10.0\n"
          ]
        },
        {
          "metadata": {
            "tags": null
          },
          "name": "stderr",
          "output_type": "stream",
          "text": [
            "  3%|▎         | 301/10000 [01:28<41:58,  3.85it/s]"
          ]
        },
        {
          "metadata": {
            "tags": null
          },
          "name": "stdout",
          "output_type": "stream",
          "text": [
            "\n",
            "Episode Reward: 10.0\n"
          ]
        },
        {
          "metadata": {
            "tags": null
          },
          "name": "stderr",
          "output_type": "stream",
          "text": [
            "  4%|▍         | 401/10000 [01:57<41:03,  3.90it/s]"
          ]
        },
        {
          "metadata": {
            "tags": null
          },
          "name": "stdout",
          "output_type": "stream",
          "text": [
            "\n",
            "Episode Reward: 9.0\n"
          ]
        },
        {
          "metadata": {
            "tags": null
          },
          "name": "stderr",
          "output_type": "stream",
          "text": [
            "  5%|▌         | 501/10000 [02:26<52:11,  3.03it/s]"
          ]
        },
        {
          "metadata": {
            "tags": null
          },
          "name": "stdout",
          "output_type": "stream",
          "text": [
            "\n",
            "Episode Reward: 9.0\n"
          ]
        },
        {
          "metadata": {
            "tags": null
          },
          "name": "stderr",
          "output_type": "stream",
          "text": [
            "  6%|▌         | 601/10000 [03:04<45:02,  3.48it/s]"
          ]
        },
        {
          "metadata": {
            "tags": null
          },
          "name": "stdout",
          "output_type": "stream",
          "text": [
            "\n",
            "Episode Reward: 10.0\n"
          ]
        },
        {
          "metadata": {
            "tags": null
          },
          "name": "stderr",
          "output_type": "stream",
          "text": [
            "  7%|▋         | 701/10000 [03:41<48:51,  3.17it/s]"
          ]
        },
        {
          "metadata": {
            "tags": null
          },
          "name": "stdout",
          "output_type": "stream",
          "text": [
            "\n",
            "Episode Reward: 13.0\n"
          ]
        },
        {
          "metadata": {
            "tags": null
          },
          "name": "stderr",
          "output_type": "stream",
          "text": [
            "  8%|▊         | 801/10000 [04:19<46:00,  3.33it/s]"
          ]
        },
        {
          "metadata": {
            "tags": null
          },
          "name": "stdout",
          "output_type": "stream",
          "text": [
            "\n",
            "Episode Reward: 10.0\n"
          ]
        },
        {
          "metadata": {
            "tags": null
          },
          "name": "stderr",
          "output_type": "stream",
          "text": [
            "  9%|▉         | 901/10000 [04:57<53:59,  2.81it/s]"
          ]
        },
        {
          "metadata": {
            "tags": null
          },
          "name": "stdout",
          "output_type": "stream",
          "text": [
            "\n",
            "Episode Reward: 17.0\n"
          ]
        },
        {
          "metadata": {
            "tags": null
          },
          "name": "stderr",
          "output_type": "stream",
          "text": [
            " 10%|█         | 1001/10000 [05:35<42:25,  3.54it/s]"
          ]
        },
        {
          "metadata": {
            "tags": null
          },
          "name": "stdout",
          "output_type": "stream",
          "text": [
            "\n",
            "Episode Reward: 21.0\n"
          ]
        },
        {
          "metadata": {
            "tags": null
          },
          "name": "stderr",
          "output_type": "stream",
          "text": [
            " 11%|█         | 1101/10000 [06:04<39:25,  3.76it/s]"
          ]
        },
        {
          "metadata": {
            "tags": null
          },
          "name": "stdout",
          "output_type": "stream",
          "text": [
            "\n",
            "Episode Reward: 22.0\n"
          ]
        },
        {
          "metadata": {
            "tags": null
          },
          "name": "stderr",
          "output_type": "stream",
          "text": [
            " 12%|█▏        | 1201/10000 [06:34<38:46,  3.78it/s]"
          ]
        },
        {
          "metadata": {
            "tags": null
          },
          "name": "stdout",
          "output_type": "stream",
          "text": [
            "\n",
            "Episode Reward: 18.0\n"
          ]
        },
        {
          "metadata": {
            "tags": null
          },
          "name": "stderr",
          "output_type": "stream",
          "text": [
            " 13%|█▎        | 1301/10000 [07:03<39:09,  3.70it/s]"
          ]
        },
        {
          "metadata": {
            "tags": null
          },
          "name": "stdout",
          "output_type": "stream",
          "text": [
            "\n",
            "Episode Reward: 33.0\n"
          ]
        },
        {
          "metadata": {
            "tags": null
          },
          "name": "stderr",
          "output_type": "stream",
          "text": [
            " 14%|█▍        | 1401/10000 [07:33<49:35,  2.89it/s]"
          ]
        },
        {
          "metadata": {
            "tags": null
          },
          "name": "stdout",
          "output_type": "stream",
          "text": [
            "\n",
            "Episode Reward: 35.0\n"
          ]
        },
        {
          "metadata": {
            "tags": null
          },
          "name": "stderr",
          "output_type": "stream",
          "text": [
            " 15%|█▌        | 1501/10000 [08:03<53:07,  2.67it/s]"
          ]
        },
        {
          "metadata": {
            "tags": null
          },
          "name": "stdout",
          "output_type": "stream",
          "text": [
            "\n",
            "Episode Reward: 47.0\n"
          ]
        },
        {
          "metadata": {
            "tags": null
          },
          "name": "stderr",
          "output_type": "stream",
          "text": [
            " 16%|█▌        | 1601/10000 [08:33<38:36,  3.63it/s]"
          ]
        },
        {
          "metadata": {
            "tags": null
          },
          "name": "stdout",
          "output_type": "stream",
          "text": [
            "\n",
            "Episode Reward: 36.0\n"
          ]
        },
        {
          "metadata": {
            "tags": null
          },
          "name": "stderr",
          "output_type": "stream",
          "text": [
            " 17%|█▋        | 1701/10000 [09:03<37:55,  3.65it/s]"
          ]
        },
        {
          "metadata": {
            "tags": null
          },
          "name": "stdout",
          "output_type": "stream",
          "text": [
            "\n",
            "Episode Reward: 38.0\n"
          ]
        },
        {
          "metadata": {
            "tags": null
          },
          "name": "stderr",
          "output_type": "stream",
          "text": [
            " 18%|█▊        | 1801/10000 [09:33<37:24,  3.65it/s]"
          ]
        },
        {
          "metadata": {
            "tags": null
          },
          "name": "stdout",
          "output_type": "stream",
          "text": [
            "\n",
            "Episode Reward: 45.0\n"
          ]
        },
        {
          "metadata": {
            "tags": null
          },
          "name": "stderr",
          "output_type": "stream",
          "text": [
            " 19%|█▉        | 1901/10000 [10:03<39:32,  3.41it/s]"
          ]
        },
        {
          "metadata": {
            "tags": null
          },
          "name": "stdout",
          "output_type": "stream",
          "text": [
            "\n",
            "Episode Reward: 36.0\n"
          ]
        },
        {
          "metadata": {
            "tags": null
          },
          "name": "stderr",
          "output_type": "stream",
          "text": [
            " 20%|██        | 2001/10000 [10:34<49:48,  2.68it/s]"
          ]
        },
        {
          "metadata": {
            "tags": null
          },
          "name": "stdout",
          "output_type": "stream",
          "text": [
            "\n",
            "Episode Reward: 34.0\n"
          ]
        },
        {
          "metadata": {
            "tags": null
          },
          "name": "stderr",
          "output_type": "stream",
          "text": [
            " 21%|██        | 2101/10000 [11:03<36:22,  3.62it/s]"
          ]
        },
        {
          "metadata": {
            "tags": null
          },
          "name": "stdout",
          "output_type": "stream",
          "text": [
            "\n",
            "Episode Reward: 28.0\n"
          ]
        },
        {
          "metadata": {
            "tags": null
          },
          "name": "stderr",
          "output_type": "stream",
          "text": [
            " 22%|██▏       | 2201/10000 [11:33<34:45,  3.74it/s]"
          ]
        },
        {
          "metadata": {
            "tags": null
          },
          "name": "stdout",
          "output_type": "stream",
          "text": [
            "\n",
            "Episode Reward: 54.0\n"
          ]
        },
        {
          "metadata": {
            "tags": null
          },
          "name": "stderr",
          "output_type": "stream",
          "text": [
            " 23%|██▎       | 2301/10000 [12:03<34:16,  3.74it/s]"
          ]
        },
        {
          "metadata": {
            "tags": null
          },
          "name": "stdout",
          "output_type": "stream",
          "text": [
            "\n",
            "Episode Reward: 32.0\n"
          ]
        },
        {
          "metadata": {
            "tags": null
          },
          "name": "stderr",
          "output_type": "stream",
          "text": [
            " 24%|██▍       | 2401/10000 [12:32<33:16,  3.81it/s]"
          ]
        },
        {
          "metadata": {
            "tags": null
          },
          "name": "stdout",
          "output_type": "stream",
          "text": [
            "\n",
            "Episode Reward: 52.0\n"
          ]
        },
        {
          "metadata": {
            "tags": null
          },
          "name": "stderr",
          "output_type": "stream",
          "text": [
            " 25%|██▌       | 2501/10000 [13:03<53:21,  2.34it/s]"
          ]
        },
        {
          "metadata": {
            "tags": null
          },
          "name": "stdout",
          "output_type": "stream",
          "text": [
            "\n",
            "Episode Reward: 30.0\n"
          ]
        },
        {
          "output_type": "stream",
          "name": "stderr",
          "text": [
            " 26%|██▌       | 2601/10000 [13:33<34:30,  3.57it/s]"
          ]
        },
        {
          "output_type": "stream",
          "name": "stdout",
          "text": [
            "\n",
            "Episode Reward: 64.0\n"
          ]
        },
        {
          "output_type": "stream",
          "name": "stderr",
          "text": [
            " 27%|██▋       | 2701/10000 [14:03<33:20,  3.65it/s]"
          ]
        },
        {
          "output_type": "stream",
          "name": "stdout",
          "text": [
            "\n",
            "Episode Reward: 134.0\n"
          ]
        },
        {
          "output_type": "stream",
          "name": "stderr",
          "text": [
            " 28%|██▊       | 2801/10000 [14:32<33:16,  3.61it/s]"
          ]
        },
        {
          "output_type": "stream",
          "name": "stdout",
          "text": [
            "\n",
            "Episode Reward: 79.0\n"
          ]
        },
        {
          "output_type": "stream",
          "name": "stderr",
          "text": [
            " 29%|██▉       | 2901/10000 [15:02<32:04,  3.69it/s]"
          ]
        },
        {
          "output_type": "stream",
          "name": "stdout",
          "text": [
            "\n",
            "Episode Reward: 61.0\n"
          ]
        },
        {
          "output_type": "stream",
          "name": "stderr",
          "text": [
            " 30%|███       | 3001/10000 [15:33<45:05,  2.59it/s]"
          ]
        },
        {
          "output_type": "stream",
          "name": "stdout",
          "text": [
            "\n",
            "Episode Reward: 46.0\n"
          ]
        },
        {
          "output_type": "stream",
          "name": "stderr",
          "text": [
            " 31%|███       | 3101/10000 [16:03<31:40,  3.63it/s]"
          ]
        },
        {
          "output_type": "stream",
          "name": "stdout",
          "text": [
            "\n",
            "Episode Reward: 46.0\n"
          ]
        },
        {
          "output_type": "stream",
          "name": "stderr",
          "text": [
            " 32%|███▏      | 3201/10000 [16:32<30:35,  3.70it/s]"
          ]
        },
        {
          "output_type": "stream",
          "name": "stdout",
          "text": [
            "\n",
            "Episode Reward: 44.0\n"
          ]
        },
        {
          "output_type": "stream",
          "name": "stderr",
          "text": [
            " 33%|███▎      | 3301/10000 [17:02<29:57,  3.73it/s]"
          ]
        },
        {
          "output_type": "stream",
          "name": "stdout",
          "text": [
            "\n",
            "Episode Reward: 34.0\n"
          ]
        },
        {
          "output_type": "stream",
          "name": "stderr",
          "text": [
            " 34%|███▍      | 3401/10000 [17:32<29:46,  3.69it/s]"
          ]
        },
        {
          "output_type": "stream",
          "name": "stdout",
          "text": [
            "\n",
            "Episode Reward: 27.0\n"
          ]
        },
        {
          "output_type": "stream",
          "name": "stderr",
          "text": [
            " 35%|███▌      | 3501/10000 [18:03<47:56,  2.26it/s]"
          ]
        },
        {
          "output_type": "stream",
          "name": "stdout",
          "text": [
            "\n",
            "Episode Reward: 50.0\n"
          ]
        },
        {
          "output_type": "stream",
          "name": "stderr",
          "text": [
            " 36%|███▌      | 3601/10000 [18:32<29:27,  3.62it/s]"
          ]
        },
        {
          "output_type": "stream",
          "name": "stdout",
          "text": [
            "\n",
            "Episode Reward: 38.0\n"
          ]
        },
        {
          "output_type": "stream",
          "name": "stderr",
          "text": [
            " 37%|███▋      | 3701/10000 [19:02<29:05,  3.61it/s]"
          ]
        },
        {
          "output_type": "stream",
          "name": "stdout",
          "text": [
            "\n",
            "Episode Reward: 108.0\n"
          ]
        },
        {
          "output_type": "stream",
          "name": "stderr",
          "text": [
            " 38%|███▊      | 3801/10000 [19:31<27:53,  3.70it/s]"
          ]
        },
        {
          "output_type": "stream",
          "name": "stdout",
          "text": [
            "\n",
            "Episode Reward: 68.0\n"
          ]
        },
        {
          "output_type": "stream",
          "name": "stderr",
          "text": [
            " 39%|███▉      | 3901/10000 [20:01<27:04,  3.75it/s]"
          ]
        },
        {
          "output_type": "stream",
          "name": "stdout",
          "text": [
            "\n",
            "Episode Reward: 88.0\n"
          ]
        },
        {
          "output_type": "stream",
          "name": "stderr",
          "text": [
            " 40%|████      | 4001/10000 [20:32<43:33,  2.30it/s]"
          ]
        },
        {
          "output_type": "stream",
          "name": "stdout",
          "text": [
            "\n",
            "Episode Reward: 36.0\n"
          ]
        },
        {
          "output_type": "stream",
          "name": "stderr",
          "text": [
            " 41%|████      | 4101/10000 [21:02<27:37,  3.56it/s]"
          ]
        },
        {
          "output_type": "stream",
          "name": "stdout",
          "text": [
            "\n",
            "Episode Reward: 53.0\n"
          ]
        },
        {
          "output_type": "stream",
          "name": "stderr",
          "text": [
            " 42%|████▏     | 4201/10000 [21:31<26:38,  3.63it/s]"
          ]
        },
        {
          "output_type": "stream",
          "name": "stdout",
          "text": [
            "\n",
            "Episode Reward: 39.0\n"
          ]
        },
        {
          "output_type": "stream",
          "name": "stderr",
          "text": [
            " 43%|████▎     | 4301/10000 [22:01<25:44,  3.69it/s]"
          ]
        },
        {
          "output_type": "stream",
          "name": "stdout",
          "text": [
            "\n",
            "Episode Reward: 75.0\n"
          ]
        },
        {
          "output_type": "stream",
          "name": "stderr",
          "text": [
            " 44%|████▍     | 4401/10000 [22:31<25:25,  3.67it/s]"
          ]
        },
        {
          "output_type": "stream",
          "name": "stdout",
          "text": [
            "\n",
            "Episode Reward: 56.0\n"
          ]
        },
        {
          "output_type": "stream",
          "name": "stderr",
          "text": [
            " 45%|████▌     | 4501/10000 [23:02<40:48,  2.25it/s]"
          ]
        },
        {
          "output_type": "stream",
          "name": "stdout",
          "text": [
            "\n",
            "Episode Reward: 43.0\n"
          ]
        },
        {
          "output_type": "stream",
          "name": "stderr",
          "text": [
            " 46%|████▌     | 4601/10000 [23:32<24:43,  3.64it/s]"
          ]
        },
        {
          "output_type": "stream",
          "name": "stdout",
          "text": [
            "\n",
            "Episode Reward: 41.0\n"
          ]
        },
        {
          "output_type": "stream",
          "name": "stderr",
          "text": [
            " 47%|████▋     | 4701/10000 [24:01<24:00,  3.68it/s]"
          ]
        },
        {
          "output_type": "stream",
          "name": "stdout",
          "text": [
            "\n",
            "Episode Reward: 74.0\n"
          ]
        },
        {
          "output_type": "stream",
          "name": "stderr",
          "text": [
            " 48%|████▊     | 4801/10000 [24:31<23:28,  3.69it/s]"
          ]
        },
        {
          "output_type": "stream",
          "name": "stdout",
          "text": [
            "\n",
            "Episode Reward: 58.0\n"
          ]
        },
        {
          "output_type": "stream",
          "name": "stderr",
          "text": [
            " 49%|████▉     | 4901/10000 [25:01<22:40,  3.75it/s]"
          ]
        },
        {
          "output_type": "stream",
          "name": "stdout",
          "text": [
            "\n",
            "Episode Reward: 64.0\n"
          ]
        },
        {
          "output_type": "stream",
          "name": "stderr",
          "text": [
            " 50%|█████     | 5001/10000 [25:32<37:23,  2.23it/s]"
          ]
        },
        {
          "output_type": "stream",
          "name": "stdout",
          "text": [
            "\n",
            "Episode Reward: 43.0\n"
          ]
        },
        {
          "output_type": "stream",
          "name": "stderr",
          "text": [
            " 51%|█████     | 5101/10000 [26:02<23:13,  3.52it/s]"
          ]
        },
        {
          "output_type": "stream",
          "name": "stdout",
          "text": [
            "\n",
            "Episode Reward: 67.0\n"
          ]
        },
        {
          "output_type": "stream",
          "name": "stderr",
          "text": [
            " 52%|█████▏    | 5201/10000 [26:31<21:32,  3.71it/s]"
          ]
        },
        {
          "output_type": "stream",
          "name": "stdout",
          "text": [
            "\n",
            "Episode Reward: 83.0\n"
          ]
        },
        {
          "output_type": "stream",
          "name": "stderr",
          "text": [
            " 53%|█████▎    | 5301/10000 [27:00<21:16,  3.68it/s]"
          ]
        },
        {
          "output_type": "stream",
          "name": "stdout",
          "text": [
            "\n",
            "Episode Reward: 115.0\n"
          ]
        },
        {
          "output_type": "stream",
          "name": "stderr",
          "text": [
            " 54%|█████▍    | 5401/10000 [27:30<20:51,  3.68it/s]"
          ]
        },
        {
          "output_type": "stream",
          "name": "stdout",
          "text": [
            "\n",
            "Episode Reward: 104.0\n"
          ]
        },
        {
          "output_type": "stream",
          "name": "stderr",
          "text": [
            " 55%|█████▌    | 5501/10000 [28:00<32:10,  2.33it/s]"
          ]
        },
        {
          "output_type": "stream",
          "name": "stdout",
          "text": [
            "\n",
            "Episode Reward: 129.0\n"
          ]
        },
        {
          "output_type": "stream",
          "name": "stderr",
          "text": [
            " 56%|█████▌    | 5601/10000 [28:30<21:50,  3.36it/s]"
          ]
        },
        {
          "output_type": "stream",
          "name": "stdout",
          "text": [
            "\n",
            "Episode Reward: 108.0\n"
          ]
        },
        {
          "output_type": "stream",
          "name": "stderr",
          "text": [
            " 57%|█████▋    | 5701/10000 [29:00<19:23,  3.69it/s]"
          ]
        },
        {
          "output_type": "stream",
          "name": "stdout",
          "text": [
            "\n",
            "Episode Reward: 124.0\n"
          ]
        },
        {
          "output_type": "stream",
          "name": "stderr",
          "text": [
            " 58%|█████▊    | 5801/10000 [29:29<19:10,  3.65it/s]"
          ]
        },
        {
          "output_type": "stream",
          "name": "stdout",
          "text": [
            "\n",
            "Episode Reward: 81.0\n"
          ]
        },
        {
          "output_type": "stream",
          "name": "stderr",
          "text": [
            " 59%|█████▉    | 5901/10000 [29:59<18:38,  3.66it/s]"
          ]
        },
        {
          "output_type": "stream",
          "name": "stdout",
          "text": [
            "\n",
            "Episode Reward: 135.0\n"
          ]
        },
        {
          "output_type": "stream",
          "name": "stderr",
          "text": [
            " 60%|██████    | 6001/10000 [30:30<28:46,  2.32it/s]"
          ]
        },
        {
          "output_type": "stream",
          "name": "stdout",
          "text": [
            "\n",
            "Episode Reward: 75.0\n"
          ]
        },
        {
          "output_type": "stream",
          "name": "stderr",
          "text": [
            " 61%|██████    | 6101/10000 [31:00<18:41,  3.48it/s]"
          ]
        },
        {
          "output_type": "stream",
          "name": "stdout",
          "text": [
            "\n",
            "Episode Reward: 115.0\n"
          ]
        },
        {
          "output_type": "stream",
          "name": "stderr",
          "text": [
            " 62%|██████▏   | 6201/10000 [31:29<17:28,  3.62it/s]"
          ]
        },
        {
          "output_type": "stream",
          "name": "stdout",
          "text": [
            "\n",
            "Episode Reward: 129.0\n"
          ]
        },
        {
          "output_type": "stream",
          "name": "stderr",
          "text": [
            " 63%|██████▎   | 6301/10000 [31:59<16:48,  3.67it/s]"
          ]
        },
        {
          "output_type": "stream",
          "name": "stdout",
          "text": [
            "\n",
            "Episode Reward: 134.0\n"
          ]
        },
        {
          "output_type": "stream",
          "name": "stderr",
          "text": [
            " 64%|██████▍   | 6401/10000 [32:29<16:25,  3.65it/s]"
          ]
        },
        {
          "output_type": "stream",
          "name": "stdout",
          "text": [
            "\n",
            "Episode Reward: 200.0\n"
          ]
        },
        {
          "output_type": "stream",
          "name": "stderr",
          "text": [
            " 65%|██████▌   | 6501/10000 [33:00<25:52,  2.25it/s]"
          ]
        },
        {
          "output_type": "stream",
          "name": "stdout",
          "text": [
            "\n",
            "Episode Reward: 200.0\n"
          ]
        },
        {
          "output_type": "stream",
          "name": "stderr",
          "text": [
            " 66%|██████▌   | 6601/10000 [33:30<16:18,  3.47it/s]"
          ]
        },
        {
          "output_type": "stream",
          "name": "stdout",
          "text": [
            "\n",
            "Episode Reward: 200.0\n"
          ]
        },
        {
          "output_type": "stream",
          "name": "stderr",
          "text": [
            " 67%|██████▋   | 6701/10000 [34:00<15:25,  3.56it/s]"
          ]
        },
        {
          "output_type": "stream",
          "name": "stdout",
          "text": [
            "\n",
            "Episode Reward: 200.0\n"
          ]
        },
        {
          "output_type": "stream",
          "name": "stderr",
          "text": [
            " 68%|██████▊   | 6801/10000 [34:29<14:46,  3.61it/s]"
          ]
        },
        {
          "output_type": "stream",
          "name": "stdout",
          "text": [
            "\n",
            "Episode Reward: 200.0\n"
          ]
        },
        {
          "output_type": "stream",
          "name": "stderr",
          "text": [
            " 69%|██████▉   | 6901/10000 [34:59<14:17,  3.61it/s]"
          ]
        },
        {
          "output_type": "stream",
          "name": "stdout",
          "text": [
            "\n",
            "Episode Reward: 200.0\n"
          ]
        },
        {
          "output_type": "stream",
          "name": "stderr",
          "text": [
            " 70%|███████   | 7001/10000 [35:30<21:46,  2.30it/s]"
          ]
        },
        {
          "output_type": "stream",
          "name": "stdout",
          "text": [
            "\n",
            "Episode Reward: 200.0\n"
          ]
        },
        {
          "output_type": "stream",
          "name": "stderr",
          "text": [
            " 71%|███████   | 7101/10000 [36:00<14:17,  3.38it/s]"
          ]
        },
        {
          "output_type": "stream",
          "name": "stdout",
          "text": [
            "\n",
            "Episode Reward: 200.0\n"
          ]
        },
        {
          "output_type": "stream",
          "name": "stderr",
          "text": [
            " 72%|███████▏  | 7201/10000 [36:29<13:02,  3.58it/s]"
          ]
        },
        {
          "output_type": "stream",
          "name": "stdout",
          "text": [
            "\n",
            "Episode Reward: 200.0\n"
          ]
        },
        {
          "output_type": "stream",
          "name": "stderr",
          "text": [
            " 73%|███████▎  | 7301/10000 [36:59<12:44,  3.53it/s]"
          ]
        },
        {
          "output_type": "stream",
          "name": "stdout",
          "text": [
            "\n",
            "Episode Reward: 200.0\n"
          ]
        },
        {
          "output_type": "stream",
          "name": "stderr",
          "text": [
            " 74%|███████▍  | 7401/10000 [37:29<12:09,  3.56it/s]"
          ]
        },
        {
          "output_type": "stream",
          "name": "stdout",
          "text": [
            "\n",
            "Episode Reward: 200.0\n"
          ]
        },
        {
          "output_type": "stream",
          "name": "stderr",
          "text": [
            " 75%|███████▌  | 7501/10000 [37:59<17:48,  2.34it/s]"
          ]
        },
        {
          "output_type": "stream",
          "name": "stdout",
          "text": [
            "\n",
            "Episode Reward: 200.0\n"
          ]
        },
        {
          "output_type": "stream",
          "name": "stderr",
          "text": [
            " 76%|███████▌  | 7601/10000 [38:29<12:23,  3.23it/s]"
          ]
        },
        {
          "output_type": "stream",
          "name": "stdout",
          "text": [
            "\n",
            "Episode Reward: 200.0\n"
          ]
        },
        {
          "output_type": "stream",
          "name": "stderr",
          "text": [
            " 77%|███████▋  | 7701/10000 [38:59<10:43,  3.57it/s]"
          ]
        },
        {
          "output_type": "stream",
          "name": "stdout",
          "text": [
            "\n",
            "Episode Reward: 200.0\n"
          ]
        },
        {
          "output_type": "stream",
          "name": "stderr",
          "text": [
            " 78%|███████▊  | 7801/10000 [39:29<10:15,  3.57it/s]"
          ]
        },
        {
          "output_type": "stream",
          "name": "stdout",
          "text": [
            "\n",
            "Episode Reward: 200.0\n"
          ]
        },
        {
          "output_type": "stream",
          "name": "stderr",
          "text": [
            " 79%|███████▉  | 7901/10000 [39:58<09:39,  3.62it/s]"
          ]
        },
        {
          "output_type": "stream",
          "name": "stdout",
          "text": [
            "\n",
            "Episode Reward: 200.0\n"
          ]
        },
        {
          "output_type": "stream",
          "name": "stderr",
          "text": [
            " 80%|████████  | 8001/10000 [40:29<13:02,  2.55it/s]"
          ]
        },
        {
          "output_type": "stream",
          "name": "stdout",
          "text": [
            "\n",
            "Episode Reward: 200.0\n"
          ]
        },
        {
          "output_type": "stream",
          "name": "stderr",
          "text": [
            " 81%|████████  | 8101/10000 [40:59<10:48,  2.93it/s]"
          ]
        },
        {
          "output_type": "stream",
          "name": "stdout",
          "text": [
            "\n",
            "Episode Reward: 200.0\n"
          ]
        },
        {
          "output_type": "stream",
          "name": "stderr",
          "text": [
            " 82%|████████▏ | 8201/10000 [41:29<08:23,  3.57it/s]"
          ]
        },
        {
          "output_type": "stream",
          "name": "stdout",
          "text": [
            "\n",
            "Episode Reward: 200.0\n"
          ]
        },
        {
          "output_type": "stream",
          "name": "stderr",
          "text": [
            " 83%|████████▎ | 8301/10000 [41:59<07:52,  3.59it/s]"
          ]
        },
        {
          "output_type": "stream",
          "name": "stdout",
          "text": [
            "\n",
            "Episode Reward: 200.0\n"
          ]
        },
        {
          "output_type": "stream",
          "name": "stderr",
          "text": [
            " 84%|████████▍ | 8401/10000 [42:28<07:31,  3.54it/s]"
          ]
        },
        {
          "output_type": "stream",
          "name": "stdout",
          "text": [
            "\n",
            "Episode Reward: 200.0\n"
          ]
        },
        {
          "output_type": "stream",
          "name": "stderr",
          "text": [
            " 85%|████████▌ | 8501/10000 [42:59<09:38,  2.59it/s]"
          ]
        },
        {
          "output_type": "stream",
          "name": "stdout",
          "text": [
            "\n",
            "Episode Reward: 200.0\n"
          ]
        },
        {
          "output_type": "stream",
          "name": "stderr",
          "text": [
            " 86%|████████▌ | 8601/10000 [43:29<07:41,  3.03it/s]"
          ]
        },
        {
          "output_type": "stream",
          "name": "stdout",
          "text": [
            "\n",
            "Episode Reward: 200.0\n"
          ]
        },
        {
          "output_type": "stream",
          "name": "stderr",
          "text": [
            " 87%|████████▋ | 8701/10000 [43:59<06:05,  3.56it/s]"
          ]
        },
        {
          "output_type": "stream",
          "name": "stdout",
          "text": [
            "\n",
            "Episode Reward: 200.0\n"
          ]
        },
        {
          "output_type": "stream",
          "name": "stderr",
          "text": [
            " 88%|████████▊ | 8801/10000 [44:29<05:33,  3.60it/s]"
          ]
        },
        {
          "output_type": "stream",
          "name": "stdout",
          "text": [
            "\n",
            "Episode Reward: 200.0\n"
          ]
        },
        {
          "output_type": "stream",
          "name": "stderr",
          "text": [
            " 89%|████████▉ | 8901/10000 [44:58<05:08,  3.56it/s]"
          ]
        },
        {
          "output_type": "stream",
          "name": "stdout",
          "text": [
            "\n",
            "Episode Reward: 200.0\n"
          ]
        },
        {
          "output_type": "stream",
          "name": "stderr",
          "text": [
            " 90%|█████████ | 9001/10000 [45:28<05:54,  2.82it/s]"
          ]
        },
        {
          "output_type": "stream",
          "name": "stdout",
          "text": [
            "\n",
            "Episode Reward: 200.0\n"
          ]
        },
        {
          "output_type": "stream",
          "name": "stderr",
          "text": [
            " 91%|█████████ | 9101/10000 [45:59<05:23,  2.78it/s]"
          ]
        },
        {
          "output_type": "stream",
          "name": "stdout",
          "text": [
            "\n",
            "Episode Reward: 200.0\n"
          ]
        },
        {
          "output_type": "stream",
          "name": "stderr",
          "text": [
            " 92%|█████████▏| 9201/10000 [46:29<03:48,  3.50it/s]"
          ]
        },
        {
          "output_type": "stream",
          "name": "stdout",
          "text": [
            "\n",
            "Episode Reward: 200.0\n"
          ]
        },
        {
          "output_type": "stream",
          "name": "stderr",
          "text": [
            " 93%|█████████▎| 9301/10000 [46:59<03:16,  3.56it/s]"
          ]
        },
        {
          "output_type": "stream",
          "name": "stdout",
          "text": [
            "\n",
            "Episode Reward: 200.0\n"
          ]
        },
        {
          "output_type": "stream",
          "name": "stderr",
          "text": [
            " 94%|█████████▍| 9401/10000 [47:28<02:47,  3.58it/s]"
          ]
        },
        {
          "output_type": "stream",
          "name": "stdout",
          "text": [
            "\n",
            "Episode Reward: 200.0\n"
          ]
        },
        {
          "output_type": "stream",
          "name": "stderr",
          "text": [
            " 95%|█████████▌| 9501/10000 [47:58<03:08,  2.64it/s]"
          ]
        },
        {
          "output_type": "stream",
          "name": "stdout",
          "text": [
            "\n",
            "Episode Reward: 200.0\n"
          ]
        },
        {
          "output_type": "stream",
          "name": "stderr",
          "text": [
            " 96%|█████████▌| 9601/10000 [48:29<02:16,  2.93it/s]"
          ]
        },
        {
          "output_type": "stream",
          "name": "stdout",
          "text": [
            "\n",
            "Episode Reward: 200.0\n"
          ]
        },
        {
          "output_type": "stream",
          "name": "stderr",
          "text": [
            " 97%|█████████▋| 9701/10000 [48:59<01:24,  3.56it/s]"
          ]
        },
        {
          "output_type": "stream",
          "name": "stdout",
          "text": [
            "\n",
            "Episode Reward: 200.0\n"
          ]
        },
        {
          "output_type": "stream",
          "name": "stderr",
          "text": [
            " 98%|█████████▊| 9801/10000 [49:29<00:56,  3.54it/s]"
          ]
        },
        {
          "output_type": "stream",
          "name": "stdout",
          "text": [
            "\n",
            "Episode Reward: 200.0\n"
          ]
        },
        {
          "output_type": "stream",
          "name": "stderr",
          "text": [
            " 99%|█████████▉| 9901/10000 [49:59<00:27,  3.62it/s]"
          ]
        },
        {
          "output_type": "stream",
          "name": "stdout",
          "text": [
            "\n",
            "Episode Reward: 200.0\n"
          ]
        },
        {
          "output_type": "stream",
          "name": "stderr",
          "text": [
            "100%|██████████| 10000/10000 [50:28<00:00,  3.30it/s]\n"
          ]
        }
      ],
      "source": [
        "NUM_EPOCHS = 10000\n",
        "STEPS_PER_EPISODE = 200\n",
        "TRAINING_EVALUATION_RATIO = 100\n",
        "env = gym.make(\"CartPole-v1\")\n",
        "\n",
        "##########################################################\n",
        "# TODO\n",
        "# Implement the training loop for the offline SAC.\n",
        "# After each epoch, run  validation\n",
        "# and plot the mean return over these\n",
        "# episodes in the end\n",
        "##########################################################\n",
        "offline_agent = SACAgent(env,buffer_batch_size=128,learning_rate=1e-4,\n",
        "                         replay_buffer=online_replay_buffer,offline=True)\n",
        "\n",
        "epochs_reward = []\n",
        "for epoch in tqdm(range(NUM_EPOCHS)):\n",
        "    offline_agent.train_networks()\n",
        "\n",
        "    evaluation_episode = epoch % TRAINING_EVALUATION_RATIO == 0\n",
        "\n",
        "    if evaluation_episode:\n",
        "        done = False\n",
        "        episode_reward = 0\n",
        "        state = env.reset()\n",
        "        step = 0\n",
        "        while not done and step < STEPS_PER_EPISODE:\n",
        "            action = offline_agent.get_next_action(state, evaluation_episode=True)\n",
        "            next_state, reward, done, _ = env.step(action)\n",
        "\n",
        "            episode_reward += reward\n",
        "            state = next_state\n",
        "            step += 1\n",
        "        print(f'\\nEpisode Reward: {episode_reward}')\n",
        "        epochs_reward.append(episode_reward)\n"
      ]
    },
    {
      "cell_type": "code",
      "source": [
        "plt.plot(epochs_reward)\n",
        "plt.title('Offline Agent')\n",
        "plt.xlabel('Evaluation Episode')\n",
        "plt.ylabel('Reward')\n",
        "plt.grid()"
      ],
      "metadata": {
        "colab": {
          "base_uri": "https://localhost:8080/",
          "height": 527
        },
        "id": "ZiVu1CDhAnWr",
        "outputId": "c2d6bfc9-3765-4062-e92d-78c0c905cf8e"
      },
      "execution_count": null,
      "outputs": [
        {
          "output_type": "stream",
          "name": "stderr",
          "text": [
            "/usr/local/lib/python3.10/dist-packages/ipykernel/ipkernel.py:283: DeprecationWarning: `should_run_async` will not call `transform_cell` automatically in the future. Please pass the result to `transformed_cell` argument and any exception that happen during thetransform in `preprocessing_exc_tuple` in IPython 7.17 and above.\n",
            "  and should_run_async(code)\n"
          ]
        },
        {
          "output_type": "display_data",
          "data": {
            "text/plain": [
              "<Figure size 640x480 with 1 Axes>"
            ],
            "image/png": "[encoded data removed]"
          },
          "metadata": {}
        }
      ]
    },
    {
      "cell_type": "code",
      "execution_count": null,
      "metadata": {
        "colab": {
          "base_uri": "https://localhost:8080/",
          "height": 339
        },
        "id": "UQCpir_G2tIP",
        "outputId": "bbeef26c-6041-45a5-c176-cf392e574299"
      },
      "outputs": [
        {
          "output_type": "stream",
          "name": "stderr",
          "text": [
            "WARNING:imageio_ffmpeg:IMAGEIO FFMPEG_WRITER WARNING: input image is not divisible by macro_block_size=16, resizing from (600, 400) to (608, 400) to ensure video compatibility with most codecs and players. To prevent resizing, make your input image divisible by the macro_block_size or set the macro_block_size to 1 (risking incompatibility).\n"
          ]
        },
        {
          "output_type": "stream",
          "name": "stdout",
          "text": [
            "Reward: 200.0\n"
          ]
        },
        {
          "output_type": "execute_result",
          "data": {
            "text/plain": [
              "<IPython.core.display.HTML object>"
            ],
            "text/html": [
              "\n",
              "    <video width=400 controls>\n",
              "          <source src=\"data:video/mp4;base64,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\" type=\"video/mp4\">\n",
              "    </video>\n",
              "    "
            ]
          },
          "metadata": {},
          "execution_count": 19
        }
      ],
      "source": [
        "env = gym.make(\"CartPole-v1\", render_mode=\"rgb_array\")\n",
        "frames = []\n",
        "\n",
        "rewards = 0\n",
        "state = env.reset()\n",
        "for _ in range(200):\n",
        "    frames.append(env.render()[0])\n",
        "    action = offline_agent.get_next_action(state, evaluation_episode=False)\n",
        "    state, reward, done, info = env.step(action)\n",
        "    rewards += reward\n",
        "    if done:\n",
        "        break\n",
        "env.close()\n",
        "print(f'Reward: {rewards}')\n",
        "imageio.mimsave('./offline.mp4', frames, fps=25)\n",
        "show_video('./offline.mp4')"
      ]
    },
    {
      "cell_type": "markdown",
      "metadata": {
        "id": "WtI9ifQeSG2O"
      },
      "source": [
        " # Behavioural Cloning (20 points)\n",
        "\n",
        "Behavioral cloning works by mimicking expert behavior through supervised learning. It involves collecting a dataset of expert trajectories, which are sequences of state-action pairs (unlike offline reinforcement learning, which also collects rewards to train the model). The model is then trained to predict the expert's actions based on the observed states. The goal is for the model to replicate the expert's behavior by minimizing the difference between its predicted actions and the expert's actions."
      ]
    },
    {
      "cell_type": "markdown",
      "metadata": {
        "id": "TEGow3ZtSex2"
      },
      "source": [
        "We first need to collect data using the previously trained model."
      ]
    },
    {
      "cell_type": "code",
      "execution_count": null,
      "metadata": {
        "colab": {
          "base_uri": "https://localhost:8080/"
        },
        "id": "83vk-JHqSdqV",
        "outputId": "b90523db-fac1-4bb4-f439-9e87ed72184a"
      },
      "outputs": [
        {
          "output_type": "stream",
          "name": "stderr",
          "text": [
            "100%|██████████| 50000/50000 [00:10<00:00, 4599.19it/s]\n"
          ]
        }
      ],
      "source": [
        "env = gym.make('CartPole-v1')\n",
        "num_episodes = 50000\n",
        "expert_data = []\n",
        "\n",
        "# TODO\n",
        "# Collect state-action pairs\n",
        "state = env.reset()\n",
        "for episode in tqdm(range(num_episodes)):\n",
        "    action = online_agent.get_next_action(state, evaluation_episode=True)\n",
        "    expert_data.append((state, [abs(action-1), action]))\n",
        "    next_state, _, _, _ = env.step(action)\n",
        "    state = next_state\n",
        "    if done:\n",
        "        state = env.reset()"
      ]
    },
    {
      "cell_type": "markdown",
      "metadata": {
        "id": "TzBsilklUdV_"
      },
      "source": [
        "Define the model for behaviuoral cloning."
      ]
    },
    {
      "cell_type": "code",
      "execution_count": null,
      "metadata": {
        "id": "Xojov1LeUl_F"
      },
      "outputs": [],
      "source": [
        "class BCModel(nn.Module):\n",
        "    def __init__(self, input_dimension, hidden_dimension, output_dimension):\n",
        "        super(BCModel, self).__init__()\n",
        "        # TODO\n",
        "        # Define the model\n",
        "        self.layer_stack_1 = nn.Sequential(\n",
        "        nn.Linear(in_features=input_dimension, out_features=hidden_dimension),\n",
        "        nn.ReLU(),\n",
        "        nn.Linear(in_features=hidden_dimension, out_features=hidden_dimension),\n",
        "        nn.ReLU(),\n",
        "        nn.Linear(in_features=hidden_dimension, out_features=output_dimension)\n",
        "        )\n",
        "\n",
        "    def forward(self, x):\n",
        "        # TODO\n",
        "        # Perform forward pass\n",
        "        return self.layer_stack_1(x)"
      ]
    },
    {
      "cell_type": "markdown",
      "metadata": {
        "id": "2_guGo3XvrCH"
      },
      "source": [
        "In this section, we implement the training loop for behavioral cloning. During each iteration, we sample a minibatch of state-action pairs from the expert dataset. This minibatch is then used to update the model."
      ]
    },
    {
      "cell_type": "code",
      "source": [
        "class CustomDataset(Dataset):\n",
        "    def __init__(self, data):\n",
        "        self.data = data\n",
        "\n",
        "    def __len__(self):\n",
        "        return len(self.data)\n",
        "\n",
        "    def __getitem__(self, idx):\n",
        "        state, action = self.data[idx]\n",
        "        return torch.tensor(state, dtype=torch.float32), torch.tensor(action, dtype=torch.float32)"
      ],
      "metadata": {
        "id": "9GpySj0L8YLK"
      },
      "execution_count": null,
      "outputs": []
    },
    {
      "cell_type": "code",
      "execution_count": null,
      "metadata": {
        "colab": {
          "base_uri": "https://localhost:8080/"
        },
        "id": "ZxLrpNIpg2Mu",
        "outputId": "9d4fff69-33d0-4d8d-bf2b-4a41e539bcee"
      },
      "outputs": [
        {
          "output_type": "stream",
          "name": "stderr",
          "text": [
            "  1%|          | 1/100 [00:01<03:03,  1.85s/it]"
          ]
        },
        {
          "output_type": "stream",
          "name": "stdout",
          "text": [
            "Epoch 1/100, Loss: 94.22320571169257\n"
          ]
        },
        {
          "output_type": "stream",
          "name": "stderr",
          "text": [
            " 10%|█         | 10/100 [00:19<03:01,  2.01s/it]"
          ]
        },
        {
          "output_type": "stream",
          "name": "stdout",
          "text": [
            "Epoch 10/100, Loss: 12.86422097554896\n"
          ]
        },
        {
          "output_type": "stream",
          "name": "stderr",
          "text": [
            " 19%|█▉        | 19/100 [00:36<02:36,  1.93s/it]"
          ]
        },
        {
          "output_type": "stream",
          "name": "stdout",
          "text": [
            "Epoch 19/100, Loss: 8.71706539450679\n"
          ]
        },
        {
          "output_type": "stream",
          "name": "stderr",
          "text": [
            " 28%|██▊       | 28/100 [00:54<02:14,  1.87s/it]"
          ]
        },
        {
          "output_type": "stream",
          "name": "stdout",
          "text": [
            "Epoch 28/100, Loss: 7.036651519039879\n"
          ]
        },
        {
          "output_type": "stream",
          "name": "stderr",
          "text": [
            " 37%|███▋      | 37/100 [01:12<02:06,  2.00s/it]"
          ]
        },
        {
          "output_type": "stream",
          "name": "stdout",
          "text": [
            "Epoch 37/100, Loss: 5.793344061457901\n"
          ]
        },
        {
          "output_type": "stream",
          "name": "stderr",
          "text": [
            " 46%|████▌     | 46/100 [01:29<01:43,  1.92s/it]"
          ]
        },
        {
          "output_type": "stream",
          "name": "stdout",
          "text": [
            "Epoch 46/100, Loss: 4.606624810417998\n"
          ]
        },
        {
          "output_type": "stream",
          "name": "stderr",
          "text": [
            " 55%|█████▌    | 55/100 [01:47<01:33,  2.08s/it]"
          ]
        },
        {
          "output_type": "stream",
          "name": "stdout",
          "text": [
            "Epoch 55/100, Loss: 4.6545833532291\n"
          ]
        },
        {
          "output_type": "stream",
          "name": "stderr",
          "text": [
            " 64%|██████▍   | 64/100 [02:05<01:09,  1.93s/it]"
          ]
        },
        {
          "output_type": "stream",
          "name": "stdout",
          "text": [
            "Epoch 64/100, Loss: 4.118530860343526\n"
          ]
        },
        {
          "output_type": "stream",
          "name": "stderr",
          "text": [
            " 73%|███████▎  | 73/100 [02:23<00:58,  2.18s/it]"
          ]
        },
        {
          "output_type": "stream",
          "name": "stdout",
          "text": [
            "Epoch 73/100, Loss: 3.865409754043867\n"
          ]
        },
        {
          "output_type": "stream",
          "name": "stderr",
          "text": [
            " 82%|████████▏ | 82/100 [02:41<00:35,  1.98s/it]"
          ]
        },
        {
          "output_type": "stream",
          "name": "stdout",
          "text": [
            "Epoch 82/100, Loss: 3.853274070842417\n"
          ]
        },
        {
          "output_type": "stream",
          "name": "stderr",
          "text": [
            " 91%|█████████ | 91/100 [02:59<00:17,  1.99s/it]"
          ]
        },
        {
          "output_type": "stream",
          "name": "stdout",
          "text": [
            "Epoch 91/100, Loss: 3.336761149454105\n"
          ]
        },
        {
          "output_type": "stream",
          "name": "stderr",
          "text": [
            "100%|██████████| 100/100 [03:17<00:00,  1.98s/it]"
          ]
        },
        {
          "output_type": "stream",
          "name": "stdout",
          "text": [
            "Epoch 100/100, Loss: 3.594222946015634\n"
          ]
        },
        {
          "output_type": "stream",
          "name": "stderr",
          "text": [
            "\n"
          ]
        }
      ],
      "source": [
        "bc_model = BCModel(input_dimension=online_agent.state_dim, hidden_dimension=64,\n",
        "                   output_dimension=online_agent.action_dim)\n",
        "\n",
        "criterion = nn.MSELoss()\n",
        "optimizer = torch.optim.Adam(bc_model.parameters(), lr=1e-3)\n",
        "\n",
        "num_epochs = 100\n",
        "batch_size = 64\n",
        "report_per_epoch = 9\n",
        "\n",
        "dataset = CustomDataset(expert_data)\n",
        "dataloader = DataLoader(dataset, batch_size=batch_size, shuffle=True)\n",
        "\n",
        "for epoch in tqdm(range(num_epochs)):\n",
        "    total_loss = 0\n",
        "    # TODO\n",
        "    # Implement behavioural cloning training loop\n",
        "    for inputs, targets in dataloader:\n",
        "\n",
        "            optimizer.zero_grad()\n",
        "            outputs = bc_model(inputs)\n",
        "            loss = criterion(outputs, targets)\n",
        "            loss.backward()\n",
        "            optimizer.step()\n",
        "\n",
        "            total_loss += loss.item()\n",
        "    if epoch % report_per_epoch == 0:\n",
        "        print(f'Epoch {epoch+1}/{num_epochs}, Loss: {total_loss}')"
      ]
    },
    {
      "cell_type": "markdown",
      "metadata": {
        "id": "eAe_p1uTw7uP"
      },
      "source": [
        "Evaluate and render the results."
      ]
    },
    {
      "cell_type": "code",
      "execution_count": null,
      "metadata": {
        "colab": {
          "base_uri": "https://localhost:8080/",
          "height": 339
        },
        "id": "LL1Qik9DhJh0",
        "outputId": "66b17f35-d8bf-44aa-f9e7-74077784bd62"
      },
      "outputs": [
        {
          "output_type": "stream",
          "name": "stderr",
          "text": [
            "WARNING:imageio_ffmpeg:IMAGEIO FFMPEG_WRITER WARNING: input image is not divisible by macro_block_size=16, resizing from (600, 400) to (608, 400) to ensure video compatibility with most codecs and players. To prevent resizing, make your input image divisible by the macro_block_size or set the macro_block_size to 1 (risking incompatibility).\n"
          ]
        },
        {
          "output_type": "stream",
          "name": "stdout",
          "text": [
            "Reward:300.0\n"
          ]
        },
        {
          "output_type": "execute_result",
          "data": {
            "text/plain": [
              "<IPython.core.display.HTML object>"
            ],
            "text/html": [
              "\n",
              "    <video width=400 controls>\n",
              "          <source src=\"data:video/mp4;base64,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\" type=\"video/mp4\">\n",
              "    </video>\n",
              "    "
            ]
          },
          "metadata": {},
          "execution_count": 56
        }
      ],
      "source": [
        "env = gym.make(\"CartPole-v1\", render_mode=\"rgb_array\")\n",
        "frames = []\n",
        "\n",
        "state = env.reset()\n",
        "rewards = 0\n",
        "for _ in range(300):\n",
        "    frames.append(env.render()[0])\n",
        "    state = torch.tensor(state).unsqueeze(0)\n",
        "    action = torch.argmax(torch.softmax(bc_model(state),dim=1)) # TODO\n",
        "    state, reward, done, info = env.step(action.numpy())\n",
        "    rewards += reward\n",
        "    if done:\n",
        "        break\n",
        "print(f\"Reward:{rewards}\")\n",
        "env.close()\n",
        "imageio.mimsave('./bc.mp4', frames, fps=25)\n",
        "show_video('./bc.mp4')"
      ]
    }
  ],
  "metadata": {
    "colab": {
      "provenance": [],
      "toc_visible": true
    },
    "kernelspec": {
      "display_name": "Python 3",
      "name": "python3"
    },
    "language_info": {
      "codemirror_mode": {
        "name": "ipython",
        "version": 3
      },
      "file_extension": ".py",
      "mimetype": "text/x-python",
      "name": "python",
      "nbconvert_exporter": "python",
      "pygments_lexer": "ipython3",
      "version": "3.10.4"
    }
  },
  "nbformat": 4,
  "nbformat_minor": 0
}